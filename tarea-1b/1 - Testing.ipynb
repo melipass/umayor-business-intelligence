{
 "cells": [
  {
   "cell_type": "code",
   "execution_count": 1,
   "metadata": {},
   "outputs": [],
   "source": [
    "import cx_Oracle\n",
    "import json\n",
    "import pandas as pd\n",
    "\n",
    "user_data = json.load(open('keys.json'))\n",
    "connection = cx_Oracle.connect(user=user_data['username'], password=user_data['password'],\n",
    "                                dsn=\"tarea1_high\")"
   ]
  },
  {
   "cell_type": "code",
   "execution_count": 4,
   "metadata": {},
   "outputs": [
    {
     "data": {
      "text/html": [
       "<div>\n",
       "<style scoped>\n",
       "    .dataframe tbody tr th:only-of-type {\n",
       "        vertical-align: middle;\n",
       "    }\n",
       "\n",
       "    .dataframe tbody tr th {\n",
       "        vertical-align: top;\n",
       "    }\n",
       "\n",
       "    .dataframe thead th {\n",
       "        text-align: right;\n",
       "    }\n",
       "</style>\n",
       "<table border=\"1\" class=\"dataframe\">\n",
       "  <thead>\n",
       "    <tr style=\"text-align: right;\">\n",
       "      <th></th>\n",
       "      <th>id</th>\n",
       "      <th>ID_CLIENTE</th>\n",
       "      <th>ID_DIRECCION</th>\n",
       "      <th>ESTADO</th>\n",
       "      <th>FECHA_COMPRA</th>\n",
       "      <th>MEDIO_PAGO</th>\n",
       "      <th>FECHA_AGENDADA</th>\n",
       "    </tr>\n",
       "  </thead>\n",
       "  <tbody>\n",
       "    <tr>\n",
       "      <th>0</th>\n",
       "      <td>7269</td>\n",
       "      <td>20</td>\n",
       "      <td>215</td>\n",
       "      <td>Cumplido</td>\n",
       "      <td>2019-08-28</td>\n",
       "      <td>Deposito Banco de Credito e Inversiones</td>\n",
       "      <td>None</td>\n",
       "    </tr>\n",
       "    <tr>\n",
       "      <th>1</th>\n",
       "      <td>7287</td>\n",
       "      <td>20</td>\n",
       "      <td>215</td>\n",
       "      <td>Cumplido</td>\n",
       "      <td>2020-06-01</td>\n",
       "      <td>Deposito Banco de Credito e Inversiones</td>\n",
       "      <td>None</td>\n",
       "    </tr>\n",
       "    <tr>\n",
       "      <th>2</th>\n",
       "      <td>7740</td>\n",
       "      <td>19</td>\n",
       "      <td>215</td>\n",
       "      <td>Cumplido</td>\n",
       "      <td>2017-09-02</td>\n",
       "      <td>Deposito Banco de Credito e Inversiones</td>\n",
       "      <td>None</td>\n",
       "    </tr>\n",
       "    <tr>\n",
       "      <th>3</th>\n",
       "      <td>8017</td>\n",
       "      <td>20</td>\n",
       "      <td>215</td>\n",
       "      <td>Cumplido</td>\n",
       "      <td>2019-10-12</td>\n",
       "      <td>Deposito Banco de Credito e Inversiones</td>\n",
       "      <td>None</td>\n",
       "    </tr>\n",
       "    <tr>\n",
       "      <th>4</th>\n",
       "      <td>8047</td>\n",
       "      <td>20</td>\n",
       "      <td>215</td>\n",
       "      <td>Cumplido</td>\n",
       "      <td>2019-12-10</td>\n",
       "      <td>Deposito Banco de Credito e Inversiones</td>\n",
       "      <td>None</td>\n",
       "    </tr>\n",
       "  </tbody>\n",
       "</table>\n",
       "</div>"
      ],
      "text/plain": [
       "     id  ID_CLIENTE  ID_DIRECCION    ESTADO FECHA_COMPRA  \\\n",
       "0  7269          20           215  Cumplido   2019-08-28   \n",
       "1  7287          20           215  Cumplido   2020-06-01   \n",
       "2  7740          19           215  Cumplido   2017-09-02   \n",
       "3  8017          20           215  Cumplido   2019-10-12   \n",
       "4  8047          20           215  Cumplido   2019-12-10   \n",
       "\n",
       "                                MEDIO_PAGO FECHA_AGENDADA  \n",
       "0  Deposito Banco de Credito e Inversiones           None  \n",
       "1  Deposito Banco de Credito e Inversiones           None  \n",
       "2  Deposito Banco de Credito e Inversiones           None  \n",
       "3  Deposito Banco de Credito e Inversiones           None  \n",
       "4  Deposito Banco de Credito e Inversiones           None  "
      ]
     },
     "execution_count": 4,
     "metadata": {},
     "output_type": "execute_result"
    }
   ],
   "source": [
    "sql = \"SELECT * FROM ADMIN.BOLETA\"\n",
    "df_ora = pd.read_sql(sql, con=connection)\n",
    "df_ora.head()"
   ]
  }
 ],
 "metadata": {
  "interpreter": {
   "hash": "1d76bb280da093bf7260b592363b449b8d54408228f36ce25dff58a9f746dd21"
  },
  "kernelspec": {
   "display_name": "Python 3.9.1 64-bit",
   "name": "python3"
  },
  "language_info": {
   "codemirror_mode": {
    "name": "ipython",
    "version": 3
   },
   "file_extension": ".py",
   "mimetype": "text/x-python",
   "name": "python",
   "nbconvert_exporter": "python",
   "pygments_lexer": "ipython3",
   "version": "3.9.1"
  },
  "orig_nbformat": 4
 },
 "nbformat": 4,
 "nbformat_minor": 2
}
