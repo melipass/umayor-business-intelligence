{
 "cells": [
  {
   "cell_type": "code",
   "execution_count": 11,
   "metadata": {},
   "outputs": [
    {
     "data": {
      "text/plain": [
       "True"
      ]
     },
     "execution_count": 11,
     "metadata": {},
     "output_type": "execute_result"
    }
   ],
   "source": [
    "import pandas as pd\n",
    "from dotenv import load_dotenv\n",
    "import requests\n",
    "import numpy as np\n",
    "import os\n",
    "load_dotenv()"
   ]
  },
  {
   "cell_type": "markdown",
   "metadata": {},
   "source": [
    "### Carga de datos y preprocesamiento"
   ]
  },
  {
   "cell_type": "markdown",
   "metadata": {},
   "source": [
    "#### Lectura de los datos de cada película\n"
   ]
  },
  {
   "cell_type": "code",
   "execution_count": 12,
   "metadata": {},
   "outputs": [
    {
     "data": {
      "text/html": [
       "<div>\n",
       "<style scoped>\n",
       "    .dataframe tbody tr th:only-of-type {\n",
       "        vertical-align: middle;\n",
       "    }\n",
       "\n",
       "    .dataframe tbody tr th {\n",
       "        vertical-align: top;\n",
       "    }\n",
       "\n",
       "    .dataframe thead th {\n",
       "        text-align: right;\n",
       "    }\n",
       "</style>\n",
       "<table border=\"1\" class=\"dataframe\">\n",
       "  <thead>\n",
       "    <tr style=\"text-align: right;\">\n",
       "      <th></th>\n",
       "      <th>id</th>\n",
       "      <th>year</th>\n",
       "      <th>name</th>\n",
       "    </tr>\n",
       "  </thead>\n",
       "  <tbody>\n",
       "    <tr>\n",
       "      <th>0</th>\n",
       "      <td>1</td>\n",
       "      <td>2003.0</td>\n",
       "      <td>Dinosaur Planet</td>\n",
       "    </tr>\n",
       "    <tr>\n",
       "      <th>1</th>\n",
       "      <td>2</td>\n",
       "      <td>2004.0</td>\n",
       "      <td>Isle of Man TT 2004 Review</td>\n",
       "    </tr>\n",
       "    <tr>\n",
       "      <th>2</th>\n",
       "      <td>3</td>\n",
       "      <td>1997.0</td>\n",
       "      <td>Character</td>\n",
       "    </tr>\n",
       "    <tr>\n",
       "      <th>3</th>\n",
       "      <td>4</td>\n",
       "      <td>1994.0</td>\n",
       "      <td>Paula Abdul's Get Up &amp; Dance</td>\n",
       "    </tr>\n",
       "    <tr>\n",
       "      <th>4</th>\n",
       "      <td>5</td>\n",
       "      <td>2004.0</td>\n",
       "      <td>The Rise and Fall of ECW</td>\n",
       "    </tr>\n",
       "    <tr>\n",
       "      <th>...</th>\n",
       "      <td>...</td>\n",
       "      <td>...</td>\n",
       "      <td>...</td>\n",
       "    </tr>\n",
       "    <tr>\n",
       "      <th>17765</th>\n",
       "      <td>17766</td>\n",
       "      <td>2002.0</td>\n",
       "      <td>Where the Wild Things Are and Other Maurice Se...</td>\n",
       "    </tr>\n",
       "    <tr>\n",
       "      <th>17766</th>\n",
       "      <td>17767</td>\n",
       "      <td>2004.0</td>\n",
       "      <td>Fidel Castro: American Experience</td>\n",
       "    </tr>\n",
       "    <tr>\n",
       "      <th>17767</th>\n",
       "      <td>17768</td>\n",
       "      <td>2000.0</td>\n",
       "      <td>Epoch</td>\n",
       "    </tr>\n",
       "    <tr>\n",
       "      <th>17768</th>\n",
       "      <td>17769</td>\n",
       "      <td>2003.0</td>\n",
       "      <td>The Company</td>\n",
       "    </tr>\n",
       "    <tr>\n",
       "      <th>17769</th>\n",
       "      <td>17770</td>\n",
       "      <td>2003.0</td>\n",
       "      <td>Alien Hunter</td>\n",
       "    </tr>\n",
       "  </tbody>\n",
       "</table>\n",
       "<p>17770 rows × 3 columns</p>\n",
       "</div>"
      ],
      "text/plain": [
       "          id    year                                               name\n",
       "0          1  2003.0                                    Dinosaur Planet\n",
       "1          2  2004.0                         Isle of Man TT 2004 Review\n",
       "2          3  1997.0                                          Character\n",
       "3          4  1994.0                       Paula Abdul's Get Up & Dance\n",
       "4          5  2004.0                           The Rise and Fall of ECW\n",
       "...      ...     ...                                                ...\n",
       "17765  17766  2002.0  Where the Wild Things Are and Other Maurice Se...\n",
       "17766  17767  2004.0                  Fidel Castro: American Experience\n",
       "17767  17768  2000.0                                              Epoch\n",
       "17768  17769  2003.0                                        The Company\n",
       "17769  17770  2003.0                                       Alien Hunter\n",
       "\n",
       "[17770 rows x 3 columns]"
      ]
     },
     "execution_count": 12,
     "metadata": {},
     "output_type": "execute_result"
    }
   ],
   "source": [
    "movie_titles = pd.read_csv(\"movie_titles.csv\", usecols=range(3), names=['id', 'year', 'name'], encoding='ISO-8859-1')\n",
    "movie_titles"
   ]
  },
  {
   "cell_type": "code",
   "execution_count": 13,
   "metadata": {},
   "outputs": [
    {
     "name": "stdout",
     "output_type": "stream",
     "text": [
      "----- Campos NaN en columna id -----\n",
      " Empty DataFrame\n",
      "Columns: [id, year, name]\n",
      "Index: []\n",
      "----- Campos NaN en columna año -----\n",
      "           id  year                                         name\n",
      "4387    4388   NaN      Ancient Civilizations: Rome and Pompeii\n",
      "4793    4794   NaN  Ancient Civilizations: Land of the Pharaohs\n",
      "7240    7241   NaN     Ancient Civilizations: Athens and Greece\n",
      "10781  10782   NaN                       Roti Kapada Aur Makaan\n",
      "15917  15918   NaN                      Hote Hote Pyaar Ho Gaya\n",
      "16677  16678   NaN                              Jimmy Hollywood\n",
      "17666  17667   NaN                           Eros Dance Dhamaka\n",
      "----- Campos NaN en columna nombre -----\n",
      " Empty DataFrame\n",
      "Columns: [id, year, name]\n",
      "Index: []\n"
     ]
    }
   ],
   "source": [
    "print(\"----- Campos NaN en columna id -----\\n\", movie_titles[movie_titles['name'].isna()])\n",
    "print(\"----- Campos NaN en columna año -----\\n\", movie_titles[movie_titles['year'].isna()])\n",
    "print(\"----- Campos NaN en columna nombre -----\\n\", movie_titles[movie_titles['id'].isna()])"
   ]
  },
  {
   "cell_type": "code",
   "execution_count": 14,
   "metadata": {},
   "outputs": [
    {
     "name": "stdout",
     "output_type": "stream",
     "text": [
      "🔴 No se encontró fecha de lanzamiento para Ancient Civilizations: Rome and Pompeii.\n",
      "🔴 No se encontró fecha de lanzamiento para Ancient Civilizations: Land of the Pharaohs.\n",
      "🔴 No se encontró fecha de lanzamiento para Ancient Civilizations: Athens and Greece.\n",
      "🟢 La fecha de lanzamiento de Roti Kapada Aur Makaan es 1974-01-01, del año 1974.\n",
      "🔴 No se encontró fecha de lanzamiento para Hote Hote Pyaar Ho Gaya.\n",
      "🟢 La fecha de lanzamiento de Jimmy Hollywood es 1994-03-30, del año 1994.\n",
      "🔴 No se encontró fecha de lanzamiento para Eros Dance Dhamaka.\n"
     ]
    }
   ],
   "source": [
    "api_key = os.getenv(\"API_KEY\")\n",
    "\n",
    "for movie in movie_titles[movie_titles['year'].isna()]['name']:\n",
    "    url = f\"https://api.themoviedb.org/3/search/movie?api_key={api_key}&query={movie}\"\n",
    "    response = requests.get(url)\n",
    "    data = response.json()\n",
    "    try:\n",
    "        relase_date = data['results'][0]['release_date']\n",
    "        if relase_date == '':\n",
    "            raise\n",
    "        release_year = relase_date[:4]\n",
    "        print(\"🟢 La fecha de lanzamiento de \" + movie + \" es \" + relase_date + \", del año \" + release_year + \".\")\n",
    "        movie_titles.loc[movie_titles['name'] == movie, 'year'] = release_year\n",
    "    except: print(\"🔴 No se encontró fecha de lanzamiento para \" + movie + \".\")"
   ]
  },
  {
   "cell_type": "code",
   "execution_count": 15,
   "metadata": {},
   "outputs": [
    {
     "name": "stdout",
     "output_type": "stream",
     "text": [
      "----- Campos NaN en columna año -----\n",
      " Empty DataFrame\n",
      "Columns: [id, year, name]\n",
      "Index: []\n"
     ]
    }
   ],
   "source": [
    "movie_titles.at[4387, 'year'] = 2001\n",
    "movie_titles.at[4793, 'year'] = 2001\n",
    "movie_titles.at[7240, 'year'] = 2002\n",
    "movie_titles.at[15917, 'year'] = 1999\n",
    "movie_titles.at[17666, 'year'] = 1999\n",
    "movie_titles = movie_titles.astype(dtype = {'id': np.int32, 'year': np.int32})\n",
    "print(\"----- Campos NaN en columna año -----\\n\", movie_titles[movie_titles['year'].isna()])"
   ]
  },
  {
   "cell_type": "code",
   "execution_count": null,
   "metadata": {},
   "outputs": [],
   "source": []
  },
  {
   "cell_type": "code",
   "execution_count": null,
   "metadata": {},
   "outputs": [],
   "source": []
  },
  {
   "cell_type": "code",
   "execution_count": null,
   "metadata": {},
   "outputs": [],
   "source": []
  }
 ],
 "metadata": {
  "interpreter": {
   "hash": "1d76bb280da093bf7260b592363b449b8d54408228f36ce25dff58a9f746dd21"
  },
  "kernelspec": {
   "display_name": "Python 3.9.1 64-bit",
   "language": "python",
   "name": "python3"
  },
  "language_info": {
   "codemirror_mode": {
    "name": "ipython",
    "version": 3
   },
   "file_extension": ".py",
   "mimetype": "text/x-python",
   "name": "python",
   "nbconvert_exporter": "python",
   "pygments_lexer": "ipython3",
   "version": "3.9.1"
  },
  "orig_nbformat": 4
 },
 "nbformat": 4,
 "nbformat_minor": 2
}
